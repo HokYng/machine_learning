{
 "cells": [
  {
   "cell_type": "code",
   "execution_count": 2,
   "metadata": {},
   "outputs": [],
   "source": [
    "import warnings\n",
    "warnings.filterwarnings(\"ignore\")\n",
    "\n",
    "import pandas as pd\n",
    "import numpy as np\n",
    "import seaborn as sns\n",
    "import matplotlib.pyplot as plt"
   ]
  },
  {
   "cell_type": "markdown",
   "metadata": {},
   "source": [
    "1、读取数据集"
   ]
  },
  {
   "cell_type": "code",
   "execution_count": 3,
   "metadata": {},
   "outputs": [],
   "source": [
    "listings = pd.read_csv('../data/listings.csv.gz')"
   ]
  },
  {
   "cell_type": "markdown",
   "metadata": {},
   "source": [
    "2、数据集预处理"
   ]
  },
  {
   "cell_type": "code",
   "execution_count": 4,
   "metadata": {},
   "outputs": [],
   "source": [
    "listings['price'] = listings.price.str.replace('$', '').str.replace(',', '')\n",
    "listings['price'] = listings.price.astype(float)\n",
    "listings = listings.loc[(listings.price <= 600) & (listings.price > 0)]"
   ]
  },
  {
   "cell_type": "code",
   "execution_count": 5,
   "metadata": {},
   "outputs": [],
   "source": [
    "listings.amenities = listings.amenities.str.replace('[{}]', '').str.replace('\"', '')"
   ]
  },
  {
   "cell_type": "code",
   "execution_count": 6,
   "metadata": {},
   "outputs": [],
   "source": [
    "columns = [\n",
    "    'host_is_superhost', \n",
    "    'host_identity_verified', \n",
    "    'host_has_profile_pic',\n",
    "    'is_location_exact',\n",
    "    'requires_license',\n",
    "    'instant_bookable',\n",
    "    'require_guest_profile_picture',\n",
    "    'require_guest_phone_verification'\n",
    "]\n",
    "for col in columns:\n",
    "    listings[col] = listings[col].replace('f', 0, regex=True)\n",
    "    listings[col] = listings[col].replace('t', 1, regex=True)"
   ]
  },
  {
   "cell_type": "code",
   "execution_count": 7,
   "metadata": {},
   "outputs": [],
   "source": [
    "listings['security_deposit'] = listings['security_deposit'].fillna(value=0)\n",
    "listings['security_deposit'] = listings['security_deposit'].replace('[\\$,)]', '', regex=True)\n",
    "listings['security_deposit'] = listings['security_deposit'].astype(float)\n",
    "\n",
    "listings['cleaning_fee'] = listings['cleaning_fee'].fillna(0)\n",
    "listings['cleaning_fee'] = listings['cleaning_fee'].replace('[\\$,)]', '', regex=True)\n",
    "listings['cleaning_fee'] = listings['cleaning_fee'].astype(float)\n"
   ]
  },
  {
   "cell_type": "code",
   "execution_count": null,
   "metadata": {},
   "outputs": [],
   "source": [
    "new_columns = columns + ['security_deposit', 'cleaning_fee', 'host_listings_count', 'host_total_listings_count', 'minimum_nights', 'bathrooms', 'bedrooms', 'guests_included', 'number_of_reviews', 'review_scores_rating', 'price']"
   ]
  },
  {
   "cell_type": "code",
   "execution_count": 10,
   "metadata": {},
   "outputs": [
    {
     "data": {
      "text/plain": [
       "['id',\n",
       " 'listing_url',\n",
       " 'scrape_id',\n",
       " 'last_scraped',\n",
       " 'name',\n",
       " 'summary',\n",
       " 'space',\n",
       " 'description',\n",
       " 'experiences_offered',\n",
       " 'neighborhood_overview',\n",
       " 'notes',\n",
       " 'transit',\n",
       " 'access',\n",
       " 'interaction',\n",
       " 'house_rules',\n",
       " 'thumbnail_url',\n",
       " 'medium_url',\n",
       " 'picture_url',\n",
       " 'xl_picture_url',\n",
       " 'host_id',\n",
       " 'host_url',\n",
       " 'host_name',\n",
       " 'host_since',\n",
       " 'host_location',\n",
       " 'host_about',\n",
       " 'host_response_time',\n",
       " 'host_response_rate',\n",
       " 'host_acceptance_rate',\n",
       " 'host_is_superhost',\n",
       " 'host_thumbnail_url',\n",
       " 'host_picture_url',\n",
       " 'host_neighbourhood',\n",
       " 'host_listings_count',\n",
       " 'host_total_listings_count',\n",
       " 'host_verifications',\n",
       " 'host_has_profile_pic',\n",
       " 'host_identity_verified',\n",
       " 'street',\n",
       " 'neighbourhood',\n",
       " 'neighbourhood_cleansed',\n",
       " 'neighbourhood_group_cleansed',\n",
       " 'city',\n",
       " 'state',\n",
       " 'zipcode',\n",
       " 'market',\n",
       " 'smart_location',\n",
       " 'country_code',\n",
       " 'country',\n",
       " 'latitude',\n",
       " 'longitude',\n",
       " 'is_location_exact',\n",
       " 'property_type',\n",
       " 'room_type',\n",
       " 'accommodates',\n",
       " 'bathrooms',\n",
       " 'bedrooms',\n",
       " 'beds',\n",
       " 'bed_type',\n",
       " 'amenities',\n",
       " 'square_feet',\n",
       " 'price',\n",
       " 'weekly_price',\n",
       " 'monthly_price',\n",
       " 'security_deposit',\n",
       " 'cleaning_fee',\n",
       " 'guests_included',\n",
       " 'extra_people',\n",
       " 'minimum_nights',\n",
       " 'maximum_nights',\n",
       " 'minimum_minimum_nights',\n",
       " 'maximum_minimum_nights',\n",
       " 'minimum_maximum_nights',\n",
       " 'maximum_maximum_nights',\n",
       " 'minimum_nights_avg_ntm',\n",
       " 'maximum_nights_avg_ntm',\n",
       " 'calendar_updated',\n",
       " 'has_availability',\n",
       " 'availability_30',\n",
       " 'availability_60',\n",
       " 'availability_90',\n",
       " 'availability_365',\n",
       " 'calendar_last_scraped',\n",
       " 'number_of_reviews',\n",
       " 'number_of_reviews_ltm',\n",
       " 'first_review',\n",
       " 'last_review',\n",
       " 'review_scores_rating',\n",
       " 'review_scores_accuracy',\n",
       " 'review_scores_cleanliness',\n",
       " 'review_scores_checkin',\n",
       " 'review_scores_communication',\n",
       " 'review_scores_location',\n",
       " 'review_scores_value',\n",
       " 'requires_license',\n",
       " 'license',\n",
       " 'jurisdiction_names',\n",
       " 'instant_bookable',\n",
       " 'is_business_travel_ready',\n",
       " 'cancellation_policy',\n",
       " 'require_guest_profile_picture',\n",
       " 'require_guest_phone_verification',\n",
       " 'calculated_host_listings_count',\n",
       " 'calculated_host_listings_count_entire_homes',\n",
       " 'calculated_host_listings_count_private_rooms',\n",
       " 'calculated_host_listings_count_shared_rooms',\n",
       " 'reviews_per_month']"
      ]
     },
     "execution_count": 10,
     "metadata": {},
     "output_type": "execute_result"
    }
   ],
   "source": [
    "list(listings.columns)"
   ]
  },
  {
   "cell_type": "code",
   "execution_count": null,
   "metadata": {},
   "outputs": [],
   "source": []
  },
  {
   "cell_type": "code",
   "execution_count": null,
   "metadata": {},
   "outputs": [],
   "source": []
  },
  {
   "cell_type": "code",
   "execution_count": null,
   "metadata": {},
   "outputs": [],
   "source": []
  }
 ],
 "metadata": {
  "kernelspec": {
   "display_name": "Python 3",
   "language": "python",
   "name": "python3"
  },
  "language_info": {
   "codemirror_mode": {
    "name": "ipython",
    "version": 3
   },
   "file_extension": ".py",
   "mimetype": "text/x-python",
   "name": "python",
   "nbconvert_exporter": "python",
   "pygments_lexer": "ipython3",
   "version": "3.7.4"
  }
 },
 "nbformat": 4,
 "nbformat_minor": 4
}
