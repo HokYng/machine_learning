{
 "cells": [
  {
   "cell_type": "code",
   "execution_count": 1,
   "metadata": {},
   "outputs": [],
   "source": [
    "import warnings\n",
    "warnings.filterwarnings(\"ignore\")\n",
    "\n",
    "import pandas as pd\n",
    "import numpy as np\n",
    "import seaborn as sns\n",
    "import matplotlib.pyplot as plt"
   ]
  },
  {
   "cell_type": "markdown",
   "metadata": {},
   "source": [
    "1、读取数据集"
   ]
  },
  {
   "cell_type": "code",
   "execution_count": 2,
   "metadata": {},
   "outputs": [],
   "source": [
    "listings = pd.read_csv('../data/listings.csv.gz')"
   ]
  },
  {
   "cell_type": "markdown",
   "metadata": {},
   "source": [
    "2、数据集预处理"
   ]
  },
  {
   "cell_type": "code",
   "execution_count": 3,
   "metadata": {},
   "outputs": [],
   "source": [
    "listings['price'] = listings.price.str.replace('$', '').str.replace(',', '')\n",
    "listings['price'] = listings.price.astype(float)"
   ]
  },
  {
   "cell_type": "code",
   "execution_count": 4,
   "metadata": {},
   "outputs": [],
   "source": [
    "listings.amenities = listings.amenities.str.replace('[{}]', '').str.replace('\"', '')"
   ]
  },
  {
   "cell_type": "code",
   "execution_count": 5,
   "metadata": {},
   "outputs": [],
   "source": [
    "listings.amenities = listings.amenities.map(lambda item: item.split(','))"
   ]
  },
  {
   "cell_type": "code",
   "execution_count": 6,
   "metadata": {},
   "outputs": [],
   "source": [
    "amenities_count = pd.Series(np.concatenate(listings.amenities))"
   ]
  },
  {
   "cell_type": "code",
   "execution_count": 7,
   "metadata": {},
   "outputs": [],
   "source": [
    "listings = listings.loc[(listings.price <= 600) & (listings.price > 0)]"
   ]
  },
  {
   "cell_type": "code",
   "execution_count": 8,
   "metadata": {},
   "outputs": [],
   "source": [
    "columns = ['host_is_superhost', 'host_identity_verified', 'host_has_profile_pic',\n",
    "           'is_location_exact', 'requires_license', 'instant_bookable', \n",
    "           'require_guest_profile_picture', 'require_guest_phone_verification'\n",
    "]\n",
    "for col in columns:\n",
    "    listings[col] = listings[col].replace('f', 0, regex=True)\n",
    "    listings[col] = listings[col].replace('t', 1, regex=True)"
   ]
  },
  {
   "cell_type": "code",
   "execution_count": 9,
   "metadata": {},
   "outputs": [],
   "source": [
    "listings['security_deposit'] = listings['security_deposit'].fillna(value=0)\n",
    "listings['security_deposit'] = listings['security_deposit'].replace('[\\$,)]', '', regex=True)\n",
    "listings['security_deposit'] = listings['security_deposit'].astype(float)\n",
    "\n",
    "listings['cleaning_fee'] = listings['cleaning_fee'].fillna(0)\n",
    "listings['cleaning_fee'] = listings['cleaning_fee'].replace('[\\$,)]', '', regex=True)\n",
    "listings['cleaning_fee'] = listings['cleaning_fee'].astype(float)"
   ]
  },
  {
   "cell_type": "code",
   "execution_count": 10,
   "metadata": {},
   "outputs": [],
   "source": [
    "new_columns = columns + ['security_deposit', 'cleaning_fee', 'host_listings_count', 'host_total_listings_count', 'minimum_nights', 'bathrooms', 'bedrooms', 'guests_included', 'number_of_reviews', 'review_scores_rating', 'price']"
   ]
  },
  {
   "cell_type": "code",
   "execution_count": 11,
   "metadata": {},
   "outputs": [],
   "source": [
    "listings_new = listings[new_columns]"
   ]
  },
  {
   "cell_type": "code",
   "execution_count": 12,
   "metadata": {},
   "outputs": [
    {
     "name": "stdout",
     "output_type": "stream",
     "text": [
      "host_is_superhost\n",
      "host_identity_verified\n",
      "host_has_profile_pic\n",
      "host_listings_count\n",
      "host_total_listings_count\n",
      "bathrooms\n",
      "bedrooms\n",
      "review_scores_rating\n"
     ]
    }
   ],
   "source": [
    "for col in listings_new.columns[listings_new.isnull().any()]:\n",
    "    print(col)"
   ]
  },
  {
   "cell_type": "code",
   "execution_count": 13,
   "metadata": {},
   "outputs": [],
   "source": [
    "for col in listings_new.columns[listings_new.isnull().any()]:\n",
    "    listings_new[col] = listings_new[col].fillna(listings_new[col].median())"
   ]
  },
  {
   "cell_type": "code",
   "execution_count": 14,
   "metadata": {},
   "outputs": [],
   "source": [
    "# features = ['zipcode', 'property_type', 'room_type', 'cancellation_policy', 'neighbourhood_cleansed', 'bed_type']\n",
    "features = ['property_type', 'room_type', 'cancellation_policy', 'neighbourhood_cleansed', 'bed_type']\n",
    "for cat_feature in features:\n",
    "    listings_new = pd.concat([listings_new, pd.get_dummies(listings[cat_feature])], axis=1)"
   ]
  },
  {
   "cell_type": "code",
   "execution_count": 15,
   "metadata": {},
   "outputs": [],
   "source": [
    "listings_new = pd.concat([listings_new, pd.get_dummies(amenities_count)], axis=1, join='inner')"
   ]
  },
  {
   "cell_type": "code",
   "execution_count": 16,
   "metadata": {},
   "outputs": [
    {
     "data": {
      "text/html": [
       "<div>\n",
       "<style scoped>\n",
       "    .dataframe tbody tr th:only-of-type {\n",
       "        vertical-align: middle;\n",
       "    }\n",
       "\n",
       "    .dataframe tbody tr th {\n",
       "        vertical-align: top;\n",
       "    }\n",
       "\n",
       "    .dataframe thead th {\n",
       "        text-align: right;\n",
       "    }\n",
       "</style>\n",
       "<table border=\"1\" class=\"dataframe\">\n",
       "  <thead>\n",
       "    <tr style=\"text-align: right;\">\n",
       "      <th></th>\n",
       "      <th>host_is_superhost</th>\n",
       "      <th>host_identity_verified</th>\n",
       "      <th>host_has_profile_pic</th>\n",
       "      <th>is_location_exact</th>\n",
       "      <th>requires_license</th>\n",
       "      <th>instant_bookable</th>\n",
       "      <th>require_guest_profile_picture</th>\n",
       "      <th>require_guest_phone_verification</th>\n",
       "      <th>security_deposit</th>\n",
       "      <th>cleaning_fee</th>\n",
       "      <th>...</th>\n",
       "      <th>Wide clearance to shower</th>\n",
       "      <th>Wide doorway to guest bathroom</th>\n",
       "      <th>Wide entrance</th>\n",
       "      <th>Wide entrance for guests</th>\n",
       "      <th>Wide entryway</th>\n",
       "      <th>Wide hallways</th>\n",
       "      <th>Wifi</th>\n",
       "      <th>Window guards</th>\n",
       "      <th>translation missing: en.hosting_amenity_49</th>\n",
       "      <th>translation missing: en.hosting_amenity_50</th>\n",
       "    </tr>\n",
       "  </thead>\n",
       "  <tbody>\n",
       "    <tr>\n",
       "      <th>0</th>\n",
       "      <td>1.0</td>\n",
       "      <td>0.0</td>\n",
       "      <td>1.0</td>\n",
       "      <td>0</td>\n",
       "      <td>0</td>\n",
       "      <td>1</td>\n",
       "      <td>0</td>\n",
       "      <td>0</td>\n",
       "      <td>200.0</td>\n",
       "      <td>60.0</td>\n",
       "      <td>...</td>\n",
       "      <td>0</td>\n",
       "      <td>0</td>\n",
       "      <td>0</td>\n",
       "      <td>0</td>\n",
       "      <td>0</td>\n",
       "      <td>0</td>\n",
       "      <td>0</td>\n",
       "      <td>0</td>\n",
       "      <td>0</td>\n",
       "      <td>0</td>\n",
       "    </tr>\n",
       "    <tr>\n",
       "      <th>1</th>\n",
       "      <td>0.0</td>\n",
       "      <td>0.0</td>\n",
       "      <td>1.0</td>\n",
       "      <td>1</td>\n",
       "      <td>0</td>\n",
       "      <td>1</td>\n",
       "      <td>0</td>\n",
       "      <td>0</td>\n",
       "      <td>0.0</td>\n",
       "      <td>0.0</td>\n",
       "      <td>...</td>\n",
       "      <td>0</td>\n",
       "      <td>0</td>\n",
       "      <td>0</td>\n",
       "      <td>0</td>\n",
       "      <td>0</td>\n",
       "      <td>0</td>\n",
       "      <td>1</td>\n",
       "      <td>0</td>\n",
       "      <td>0</td>\n",
       "      <td>0</td>\n",
       "    </tr>\n",
       "    <tr>\n",
       "      <th>2</th>\n",
       "      <td>1.0</td>\n",
       "      <td>0.0</td>\n",
       "      <td>1.0</td>\n",
       "      <td>0</td>\n",
       "      <td>0</td>\n",
       "      <td>0</td>\n",
       "      <td>0</td>\n",
       "      <td>0</td>\n",
       "      <td>300.0</td>\n",
       "      <td>40.0</td>\n",
       "      <td>...</td>\n",
       "      <td>0</td>\n",
       "      <td>0</td>\n",
       "      <td>0</td>\n",
       "      <td>0</td>\n",
       "      <td>0</td>\n",
       "      <td>0</td>\n",
       "      <td>0</td>\n",
       "      <td>0</td>\n",
       "      <td>0</td>\n",
       "      <td>0</td>\n",
       "    </tr>\n",
       "    <tr>\n",
       "      <th>3</th>\n",
       "      <td>1.0</td>\n",
       "      <td>1.0</td>\n",
       "      <td>1.0</td>\n",
       "      <td>1</td>\n",
       "      <td>0</td>\n",
       "      <td>1</td>\n",
       "      <td>0</td>\n",
       "      <td>0</td>\n",
       "      <td>0.0</td>\n",
       "      <td>0.0</td>\n",
       "      <td>...</td>\n",
       "      <td>0</td>\n",
       "      <td>0</td>\n",
       "      <td>0</td>\n",
       "      <td>0</td>\n",
       "      <td>0</td>\n",
       "      <td>0</td>\n",
       "      <td>0</td>\n",
       "      <td>0</td>\n",
       "      <td>0</td>\n",
       "      <td>0</td>\n",
       "    </tr>\n",
       "    <tr>\n",
       "      <th>4</th>\n",
       "      <td>1.0</td>\n",
       "      <td>1.0</td>\n",
       "      <td>1.0</td>\n",
       "      <td>1</td>\n",
       "      <td>0</td>\n",
       "      <td>0</td>\n",
       "      <td>0</td>\n",
       "      <td>0</td>\n",
       "      <td>0.0</td>\n",
       "      <td>0.0</td>\n",
       "      <td>...</td>\n",
       "      <td>0</td>\n",
       "      <td>0</td>\n",
       "      <td>0</td>\n",
       "      <td>0</td>\n",
       "      <td>0</td>\n",
       "      <td>0</td>\n",
       "      <td>0</td>\n",
       "      <td>0</td>\n",
       "      <td>0</td>\n",
       "      <td>0</td>\n",
       "    </tr>\n",
       "  </tbody>\n",
       "</table>\n",
       "<p>5 rows × 221 columns</p>\n",
       "</div>"
      ],
      "text/plain": [
       "   host_is_superhost  host_identity_verified  host_has_profile_pic  \\\n",
       "0                1.0                     0.0                   1.0   \n",
       "1                0.0                     0.0                   1.0   \n",
       "2                1.0                     0.0                   1.0   \n",
       "3                1.0                     1.0                   1.0   \n",
       "4                1.0                     1.0                   1.0   \n",
       "\n",
       "   is_location_exact  requires_license  instant_bookable  \\\n",
       "0                  0                 0                 1   \n",
       "1                  1                 0                 1   \n",
       "2                  0                 0                 0   \n",
       "3                  1                 0                 1   \n",
       "4                  1                 0                 0   \n",
       "\n",
       "   require_guest_profile_picture  require_guest_phone_verification  \\\n",
       "0                              0                                 0   \n",
       "1                              0                                 0   \n",
       "2                              0                                 0   \n",
       "3                              0                                 0   \n",
       "4                              0                                 0   \n",
       "\n",
       "   security_deposit  cleaning_fee  ...  Wide clearance to shower  \\\n",
       "0             200.0          60.0  ...                         0   \n",
       "1               0.0           0.0  ...                         0   \n",
       "2             300.0          40.0  ...                         0   \n",
       "3               0.0           0.0  ...                         0   \n",
       "4               0.0           0.0  ...                         0   \n",
       "\n",
       "   Wide doorway to guest bathroom  Wide entrance  Wide entrance for guests  \\\n",
       "0                               0              0                         0   \n",
       "1                               0              0                         0   \n",
       "2                               0              0                         0   \n",
       "3                               0              0                         0   \n",
       "4                               0              0                         0   \n",
       "\n",
       "   Wide entryway  Wide hallways  Wifi  Window guards  \\\n",
       "0              0              0     0              0   \n",
       "1              0              0     1              0   \n",
       "2              0              0     0              0   \n",
       "3              0              0     0              0   \n",
       "4              0              0     0              0   \n",
       "\n",
       "   translation missing: en.hosting_amenity_49  \\\n",
       "0                                           0   \n",
       "1                                           0   \n",
       "2                                           0   \n",
       "3                                           0   \n",
       "4                                           0   \n",
       "\n",
       "   translation missing: en.hosting_amenity_50  \n",
       "0                                           0  \n",
       "1                                           0  \n",
       "2                                           0  \n",
       "3                                           0  \n",
       "4                                           0  \n",
       "\n",
       "[5 rows x 221 columns]"
      ]
     },
     "execution_count": 16,
     "metadata": {},
     "output_type": "execute_result"
    }
   ],
   "source": [
    "listings_new.head()"
   ]
  },
  {
   "cell_type": "markdown",
   "metadata": {},
   "source": [
    "#### 1、随机森林建模"
   ]
  },
  {
   "cell_type": "code",
   "execution_count": 17,
   "metadata": {},
   "outputs": [],
   "source": [
    "from sklearn.model_selection import train_test_split\n",
    "from sklearn.metrics import mean_squared_error, r2_score\n",
    "from sklearn.ensemble import RandomForestRegressor"
   ]
  },
  {
   "cell_type": "code",
   "execution_count": 18,
   "metadata": {},
   "outputs": [],
   "source": [
    "y = listings_new.price\n",
    "x = listings_new.drop('price', axis=1)\n",
    "x_train, x_test, y_train, y_test = train_test_split(x, y, test_size=0.25, random_state=22)"
   ]
  },
  {
   "cell_type": "code",
   "execution_count": 19,
   "metadata": {},
   "outputs": [],
   "source": [
    "from sklearn.preprocessing import StandardScaler\n",
    "std = StandardScaler()\n",
    "x_fit = std.fit(x_train)\n",
    "x_train = x_fit.transform(x_train)\n",
    "x_test = x_fit.transform(x_test)"
   ]
  },
  {
   "cell_type": "code",
   "execution_count": 20,
   "metadata": {},
   "outputs": [],
   "source": [
    "rf = RandomForestRegressor(n_estimators=500, n_jobs=-1)\n",
    "rf.fit(x_train, y_train)\n",
    "y_test_predict = rf.predict(x_test)\n",
    "rmse_rf = mean_squared_error(y_test, y_test_predict)**(1/2)"
   ]
  },
  {
   "cell_type": "code",
   "execution_count": 21,
   "metadata": {},
   "outputs": [
    {
     "data": {
      "text/plain": [
       "60.78573912429199"
      ]
     },
     "execution_count": 21,
     "metadata": {},
     "output_type": "execute_result"
    }
   ],
   "source": [
    "rmse_rf"
   ]
  },
  {
   "cell_type": "code",
   "execution_count": 22,
   "metadata": {},
   "outputs": [
    {
     "data": {
      "text/plain": [
       "0.488161352740902"
      ]
     },
     "execution_count": 22,
     "metadata": {},
     "output_type": "execute_result"
    }
   ],
   "source": [
    "r2_score(y_test, y_test_predict)"
   ]
  },
  {
   "cell_type": "markdown",
   "metadata": {},
   "source": [
    "#### 2、LightGBM建模----提升机器算法\n",
    "pip install lightgbm\n",
    "\n",
    "- Api文档: https://lightgbm.readthedocs.io/en/latest/"
   ]
  },
  {
   "cell_type": "code",
   "execution_count": 23,
   "metadata": {},
   "outputs": [],
   "source": [
    "from lightgbm import LGBMRegressor"
   ]
  },
  {
   "cell_type": "code",
   "execution_count": 25,
   "metadata": {},
   "outputs": [],
   "source": [
    "fit_params = {\n",
    "    'early_stopping_rounds': 10, \n",
    "    'eval_metric': 'rmse', \n",
    "    'eval_set': [(x_test, y_test)],\n",
    "    'eval_names': ['valid'],\n",
    "    'verbose': 100,\n",
    "}"
   ]
  },
  {
   "cell_type": "code",
   "execution_count": 26,
   "metadata": {},
   "outputs": [
    {
     "name": "stdout",
     "output_type": "stream",
     "text": [
      "Training until validation scores don't improve for 10 rounds\n",
      "[100]\tvalid's rmse: 66.9629\tvalid's l2: 4484.03\n",
      "[200]\tvalid's rmse: 62.615\tvalid's l2: 3920.64\n",
      "[300]\tvalid's rmse: 60.8635\tvalid's l2: 3704.37\n",
      "[400]\tvalid's rmse: 59.999\tvalid's l2: 3599.89\n",
      "[500]\tvalid's rmse: 59.5031\tvalid's l2: 3540.62\n",
      "[600]\tvalid's rmse: 59.2559\tvalid's l2: 3511.26\n",
      "[700]\tvalid's rmse: 59.121\tvalid's l2: 3495.29\n",
      "[800]\tvalid's rmse: 59.0207\tvalid's l2: 3483.45\n",
      "[900]\tvalid's rmse: 58.9611\tvalid's l2: 3476.42\n",
      "Early stopping, best iteration is:\n",
      "[890]\tvalid's rmse: 58.959\tvalid's l2: 3476.16\n"
     ]
    },
    {
     "data": {
      "text/plain": [
       "LGBMRegressor(boosting_type='gbdt', class_weight=None, colsample_bytree=1.0,\n",
       "              importance_type='split', learning_rate=0.01, max_depth=20,\n",
       "              min_child_samples=20, min_child_weight=0.001, min_split_gain=0.0,\n",
       "              n_estimators=1000, n_jobs=-1, num_leaves=31, objective=None,\n",
       "              random_state=None, reg_alpha=0.0, reg_lambda=0.0, silent=True,\n",
       "              subsample=1.0, subsample_for_bin=200000, subsample_freq=0)"
      ]
     },
     "execution_count": 26,
     "metadata": {},
     "output_type": "execute_result"
    }
   ],
   "source": [
    "lgb = LGBMRegressor(max_depth=20, learning_rate=0.01, n_estimators=1000)\n",
    "lgb.fit(x_train, y_train, **fit_params)"
   ]
  },
  {
   "cell_type": "code",
   "execution_count": 27,
   "metadata": {},
   "outputs": [],
   "source": [
    "y_test_predict = lgb.predict(x_test)"
   ]
  },
  {
   "cell_type": "code",
   "execution_count": 28,
   "metadata": {},
   "outputs": [
    {
     "data": {
      "text/plain": [
       "0.5184633174669431"
      ]
     },
     "execution_count": 28,
     "metadata": {},
     "output_type": "execute_result"
    }
   ],
   "source": [
    "r2_score(y_test, y_test_predict)"
   ]
  },
  {
   "cell_type": "code",
   "execution_count": null,
   "metadata": {},
   "outputs": [],
   "source": []
  }
 ],
 "metadata": {
  "kernelspec": {
   "display_name": "Python 3",
   "language": "python",
   "name": "python3"
  },
  "language_info": {
   "codemirror_mode": {
    "name": "ipython",
    "version": 3
   },
   "file_extension": ".py",
   "mimetype": "text/x-python",
   "name": "python",
   "nbconvert_exporter": "python",
   "pygments_lexer": "ipython3",
   "version": "3.7.4"
  }
 },
 "nbformat": 4,
 "nbformat_minor": 4
}
