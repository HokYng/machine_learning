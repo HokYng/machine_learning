{
 "cells": [
  {
   "cell_type": "markdown",
   "metadata": {},
   "source": [
    "#### 导入工具包"
   ]
  },
  {
   "cell_type": "code",
   "execution_count": 37,
   "metadata": {},
   "outputs": [],
   "source": [
    "import warnings\n",
    "warnings.filterwarnings(\"ignore\")\n",
    "\n",
    "import pandas as pd\n",
    "import numpy as np\n",
    "import matplotlib.pyplot as plt"
   ]
  },
  {
   "cell_type": "markdown",
   "metadata": {},
   "source": [
    "#### 读取数据集"
   ]
  },
  {
   "cell_type": "code",
   "execution_count": 2,
   "metadata": {},
   "outputs": [],
   "source": [
    "calendar = pd.read_csv('../data/calendar.csv.gz')"
   ]
  },
  {
   "cell_type": "markdown",
   "metadata": {},
   "source": [
    "#### 预览前5行数据集"
   ]
  },
  {
   "cell_type": "code",
   "execution_count": 4,
   "metadata": {},
   "outputs": [
    {
     "data": {
      "text/html": [
       "<div>\n",
       "<style scoped>\n",
       "    .dataframe tbody tr th:only-of-type {\n",
       "        vertical-align: middle;\n",
       "    }\n",
       "\n",
       "    .dataframe tbody tr th {\n",
       "        vertical-align: top;\n",
       "    }\n",
       "\n",
       "    .dataframe thead th {\n",
       "        text-align: right;\n",
       "    }\n",
       "</style>\n",
       "<table border=\"1\" class=\"dataframe\">\n",
       "  <thead>\n",
       "    <tr style=\"text-align: right;\">\n",
       "      <th></th>\n",
       "      <th>listing_id</th>\n",
       "      <th>date</th>\n",
       "      <th>available</th>\n",
       "      <th>price</th>\n",
       "      <th>adjusted_price</th>\n",
       "      <th>minimum_nights</th>\n",
       "      <th>maximum_nights</th>\n",
       "    </tr>\n",
       "  </thead>\n",
       "  <tbody>\n",
       "    <tr>\n",
       "      <th>0</th>\n",
       "      <td>52490</td>\n",
       "      <td>2020-03-14</td>\n",
       "      <td>f</td>\n",
       "      <td>$75.00</td>\n",
       "      <td>$75.00</td>\n",
       "      <td>2.0</td>\n",
       "      <td>80.0</td>\n",
       "    </tr>\n",
       "    <tr>\n",
       "      <th>1</th>\n",
       "      <td>2818</td>\n",
       "      <td>2020-03-14</td>\n",
       "      <td>f</td>\n",
       "      <td>$69.00</td>\n",
       "      <td>$69.00</td>\n",
       "      <td>3.0</td>\n",
       "      <td>1125.0</td>\n",
       "    </tr>\n",
       "    <tr>\n",
       "      <th>2</th>\n",
       "      <td>2818</td>\n",
       "      <td>2020-03-15</td>\n",
       "      <td>t</td>\n",
       "      <td>$69.00</td>\n",
       "      <td>$69.00</td>\n",
       "      <td>3.0</td>\n",
       "      <td>1125.0</td>\n",
       "    </tr>\n",
       "    <tr>\n",
       "      <th>3</th>\n",
       "      <td>2818</td>\n",
       "      <td>2020-03-16</td>\n",
       "      <td>t</td>\n",
       "      <td>$59.00</td>\n",
       "      <td>$59.00</td>\n",
       "      <td>3.0</td>\n",
       "      <td>1125.0</td>\n",
       "    </tr>\n",
       "    <tr>\n",
       "      <th>4</th>\n",
       "      <td>2818</td>\n",
       "      <td>2020-03-17</td>\n",
       "      <td>t</td>\n",
       "      <td>$59.00</td>\n",
       "      <td>$59.00</td>\n",
       "      <td>3.0</td>\n",
       "      <td>1125.0</td>\n",
       "    </tr>\n",
       "  </tbody>\n",
       "</table>\n",
       "</div>"
      ],
      "text/plain": [
       "   listing_id        date available   price adjusted_price  minimum_nights  \\\n",
       "0       52490  2020-03-14         f  $75.00         $75.00             2.0   \n",
       "1        2818  2020-03-14         f  $69.00         $69.00             3.0   \n",
       "2        2818  2020-03-15         t  $69.00         $69.00             3.0   \n",
       "3        2818  2020-03-16         t  $59.00         $59.00             3.0   \n",
       "4        2818  2020-03-17         t  $59.00         $59.00             3.0   \n",
       "\n",
       "   maximum_nights  \n",
       "0            80.0  \n",
       "1          1125.0  \n",
       "2          1125.0  \n",
       "3          1125.0  \n",
       "4          1125.0  "
      ]
     },
     "execution_count": 4,
     "metadata": {},
     "output_type": "execute_result"
    }
   ],
   "source": [
    "calendar.head()"
   ]
  },
  {
   "cell_type": "code",
   "execution_count": 5,
   "metadata": {},
   "outputs": [
    {
     "data": {
      "text/plain": [
       "(7166780, 7)"
      ]
     },
     "execution_count": 5,
     "metadata": {},
     "output_type": "execute_result"
    }
   ],
   "source": [
    "calendar.shape"
   ]
  },
  {
   "cell_type": "code",
   "execution_count": 6,
   "metadata": {},
   "outputs": [
    {
     "data": {
      "text/plain": [
       "('2020-03-13', '2021-03-13')"
      ]
     },
     "execution_count": 6,
     "metadata": {},
     "output_type": "execute_result"
    }
   ],
   "source": [
    "calendar.date.min(), calendar.date.max()"
   ]
  },
  {
   "cell_type": "markdown",
   "metadata": {},
   "source": [
    "#### 数据集中为空的数据总数"
   ]
  },
  {
   "cell_type": "code",
   "execution_count": 7,
   "metadata": {},
   "outputs": [
    {
     "data": {
      "text/plain": [
       "listing_id          0\n",
       "date                0\n",
       "available           0\n",
       "price             185\n",
       "adjusted_price    185\n",
       "minimum_nights      3\n",
       "maximum_nights      3\n",
       "dtype: int64"
      ]
     },
     "execution_count": 7,
     "metadata": {},
     "output_type": "execute_result"
    }
   ],
   "source": [
    "calendar.isnull().sum()"
   ]
  },
  {
   "cell_type": "markdown",
   "metadata": {},
   "source": [
    "#### 1、价格为空的数据"
   ]
  },
  {
   "cell_type": "code",
   "execution_count": 8,
   "metadata": {},
   "outputs": [
    {
     "data": {
      "text/html": [
       "<div>\n",
       "<style scoped>\n",
       "    .dataframe tbody tr th:only-of-type {\n",
       "        vertical-align: middle;\n",
       "    }\n",
       "\n",
       "    .dataframe tbody tr th {\n",
       "        vertical-align: top;\n",
       "    }\n",
       "\n",
       "    .dataframe thead th {\n",
       "        text-align: right;\n",
       "    }\n",
       "</style>\n",
       "<table border=\"1\" class=\"dataframe\">\n",
       "  <thead>\n",
       "    <tr style=\"text-align: right;\">\n",
       "      <th></th>\n",
       "      <th>listing_id</th>\n",
       "      <th>date</th>\n",
       "      <th>available</th>\n",
       "      <th>price</th>\n",
       "      <th>adjusted_price</th>\n",
       "      <th>minimum_nights</th>\n",
       "      <th>maximum_nights</th>\n",
       "    </tr>\n",
       "  </thead>\n",
       "  <tbody>\n",
       "    <tr>\n",
       "      <th>784350</th>\n",
       "      <td>4470364</td>\n",
       "      <td>2020-09-17</td>\n",
       "      <td>f</td>\n",
       "      <td>NaN</td>\n",
       "      <td>NaN</td>\n",
       "      <td>1.0</td>\n",
       "      <td>60.0</td>\n",
       "    </tr>\n",
       "    <tr>\n",
       "      <th>784351</th>\n",
       "      <td>4470364</td>\n",
       "      <td>2020-09-18</td>\n",
       "      <td>f</td>\n",
       "      <td>NaN</td>\n",
       "      <td>NaN</td>\n",
       "      <td>1.0</td>\n",
       "      <td>60.0</td>\n",
       "    </tr>\n",
       "    <tr>\n",
       "      <th>784352</th>\n",
       "      <td>4470364</td>\n",
       "      <td>2020-09-19</td>\n",
       "      <td>f</td>\n",
       "      <td>NaN</td>\n",
       "      <td>NaN</td>\n",
       "      <td>1.0</td>\n",
       "      <td>60.0</td>\n",
       "    </tr>\n",
       "    <tr>\n",
       "      <th>784353</th>\n",
       "      <td>4470364</td>\n",
       "      <td>2020-09-20</td>\n",
       "      <td>f</td>\n",
       "      <td>NaN</td>\n",
       "      <td>NaN</td>\n",
       "      <td>1.0</td>\n",
       "      <td>60.0</td>\n",
       "    </tr>\n",
       "    <tr>\n",
       "      <th>784354</th>\n",
       "      <td>4470364</td>\n",
       "      <td>2020-09-21</td>\n",
       "      <td>f</td>\n",
       "      <td>NaN</td>\n",
       "      <td>NaN</td>\n",
       "      <td>1.0</td>\n",
       "      <td>60.0</td>\n",
       "    </tr>\n",
       "    <tr>\n",
       "      <th>...</th>\n",
       "      <td>...</td>\n",
       "      <td>...</td>\n",
       "      <td>...</td>\n",
       "      <td>...</td>\n",
       "      <td>...</td>\n",
       "      <td>...</td>\n",
       "      <td>...</td>\n",
       "    </tr>\n",
       "    <tr>\n",
       "      <th>1726787</th>\n",
       "      <td>9542122</td>\n",
       "      <td>2021-03-09</td>\n",
       "      <td>f</td>\n",
       "      <td>NaN</td>\n",
       "      <td>NaN</td>\n",
       "      <td>5.0</td>\n",
       "      <td>8.0</td>\n",
       "    </tr>\n",
       "    <tr>\n",
       "      <th>1726788</th>\n",
       "      <td>9542122</td>\n",
       "      <td>2021-03-10</td>\n",
       "      <td>f</td>\n",
       "      <td>NaN</td>\n",
       "      <td>NaN</td>\n",
       "      <td>5.0</td>\n",
       "      <td>8.0</td>\n",
       "    </tr>\n",
       "    <tr>\n",
       "      <th>1726789</th>\n",
       "      <td>9542122</td>\n",
       "      <td>2021-03-11</td>\n",
       "      <td>f</td>\n",
       "      <td>NaN</td>\n",
       "      <td>NaN</td>\n",
       "      <td>5.0</td>\n",
       "      <td>8.0</td>\n",
       "    </tr>\n",
       "    <tr>\n",
       "      <th>1726790</th>\n",
       "      <td>9542122</td>\n",
       "      <td>2021-03-12</td>\n",
       "      <td>f</td>\n",
       "      <td>NaN</td>\n",
       "      <td>NaN</td>\n",
       "      <td>5.0</td>\n",
       "      <td>8.0</td>\n",
       "    </tr>\n",
       "    <tr>\n",
       "      <th>1726791</th>\n",
       "      <td>9542122</td>\n",
       "      <td>2021-03-13</td>\n",
       "      <td>f</td>\n",
       "      <td>NaN</td>\n",
       "      <td>NaN</td>\n",
       "      <td>5.0</td>\n",
       "      <td>8.0</td>\n",
       "    </tr>\n",
       "  </tbody>\n",
       "</table>\n",
       "<p>185 rows × 7 columns</p>\n",
       "</div>"
      ],
      "text/plain": [
       "         listing_id        date available price adjusted_price  \\\n",
       "784350      4470364  2020-09-17         f   NaN            NaN   \n",
       "784351      4470364  2020-09-18         f   NaN            NaN   \n",
       "784352      4470364  2020-09-19         f   NaN            NaN   \n",
       "784353      4470364  2020-09-20         f   NaN            NaN   \n",
       "784354      4470364  2020-09-21         f   NaN            NaN   \n",
       "...             ...         ...       ...   ...            ...   \n",
       "1726787     9542122  2021-03-09         f   NaN            NaN   \n",
       "1726788     9542122  2021-03-10         f   NaN            NaN   \n",
       "1726789     9542122  2021-03-11         f   NaN            NaN   \n",
       "1726790     9542122  2021-03-12         f   NaN            NaN   \n",
       "1726791     9542122  2021-03-13         f   NaN            NaN   \n",
       "\n",
       "         minimum_nights  maximum_nights  \n",
       "784350              1.0            60.0  \n",
       "784351              1.0            60.0  \n",
       "784352              1.0            60.0  \n",
       "784353              1.0            60.0  \n",
       "784354              1.0            60.0  \n",
       "...                 ...             ...  \n",
       "1726787             5.0             8.0  \n",
       "1726788             5.0             8.0  \n",
       "1726789             5.0             8.0  \n",
       "1726790             5.0             8.0  \n",
       "1726791             5.0             8.0  \n",
       "\n",
       "[185 rows x 7 columns]"
      ]
     },
     "execution_count": 8,
     "metadata": {},
     "output_type": "execute_result"
    }
   ],
   "source": [
    "calendar[calendar.price.isnull()]"
   ]
  },
  {
   "cell_type": "markdown",
   "metadata": {},
   "source": [
    "#### 2、处理数据集"
   ]
  },
  {
   "cell_type": "markdown",
   "metadata": {},
   "source": [
    "##### 2.1、删除空值"
   ]
  },
  {
   "cell_type": "code",
   "execution_count": 42,
   "metadata": {},
   "outputs": [],
   "source": [
    "calendar_pure = calendar.dropna()"
   ]
  },
  {
   "cell_type": "code",
   "execution_count": 43,
   "metadata": {},
   "outputs": [
    {
     "data": {
      "text/plain": [
       "(7166592, 7)"
      ]
     },
     "execution_count": 43,
     "metadata": {},
     "output_type": "execute_result"
    }
   ],
   "source": [
    "calendar_pure.shape"
   ]
  },
  {
   "cell_type": "markdown",
   "metadata": {},
   "source": [
    "##### 2.2 转换时间格式"
   ]
  },
  {
   "cell_type": "code",
   "execution_count": 44,
   "metadata": {},
   "outputs": [],
   "source": [
    "calendar_pure['date'] = pd.to_datetime(calendar_pure['date'])"
   ]
  },
  {
   "cell_type": "code",
   "execution_count": 45,
   "metadata": {},
   "outputs": [
    {
     "data": {
      "text/html": [
       "<div>\n",
       "<style scoped>\n",
       "    .dataframe tbody tr th:only-of-type {\n",
       "        vertical-align: middle;\n",
       "    }\n",
       "\n",
       "    .dataframe tbody tr th {\n",
       "        vertical-align: top;\n",
       "    }\n",
       "\n",
       "    .dataframe thead th {\n",
       "        text-align: right;\n",
       "    }\n",
       "</style>\n",
       "<table border=\"1\" class=\"dataframe\">\n",
       "  <thead>\n",
       "    <tr style=\"text-align: right;\">\n",
       "      <th></th>\n",
       "      <th>listing_id</th>\n",
       "      <th>date</th>\n",
       "      <th>available</th>\n",
       "      <th>price</th>\n",
       "      <th>adjusted_price</th>\n",
       "      <th>minimum_nights</th>\n",
       "      <th>maximum_nights</th>\n",
       "    </tr>\n",
       "  </thead>\n",
       "  <tbody>\n",
       "    <tr>\n",
       "      <th>0</th>\n",
       "      <td>52490</td>\n",
       "      <td>2020-03-14</td>\n",
       "      <td>f</td>\n",
       "      <td>$75.00</td>\n",
       "      <td>$75.00</td>\n",
       "      <td>2.0</td>\n",
       "      <td>80.0</td>\n",
       "    </tr>\n",
       "    <tr>\n",
       "      <th>1</th>\n",
       "      <td>2818</td>\n",
       "      <td>2020-03-14</td>\n",
       "      <td>f</td>\n",
       "      <td>$69.00</td>\n",
       "      <td>$69.00</td>\n",
       "      <td>3.0</td>\n",
       "      <td>1125.0</td>\n",
       "    </tr>\n",
       "    <tr>\n",
       "      <th>2</th>\n",
       "      <td>2818</td>\n",
       "      <td>2020-03-15</td>\n",
       "      <td>t</td>\n",
       "      <td>$69.00</td>\n",
       "      <td>$69.00</td>\n",
       "      <td>3.0</td>\n",
       "      <td>1125.0</td>\n",
       "    </tr>\n",
       "    <tr>\n",
       "      <th>3</th>\n",
       "      <td>2818</td>\n",
       "      <td>2020-03-16</td>\n",
       "      <td>t</td>\n",
       "      <td>$59.00</td>\n",
       "      <td>$59.00</td>\n",
       "      <td>3.0</td>\n",
       "      <td>1125.0</td>\n",
       "    </tr>\n",
       "    <tr>\n",
       "      <th>4</th>\n",
       "      <td>2818</td>\n",
       "      <td>2020-03-17</td>\n",
       "      <td>t</td>\n",
       "      <td>$59.00</td>\n",
       "      <td>$59.00</td>\n",
       "      <td>3.0</td>\n",
       "      <td>1125.0</td>\n",
       "    </tr>\n",
       "    <tr>\n",
       "      <th>...</th>\n",
       "      <td>...</td>\n",
       "      <td>...</td>\n",
       "      <td>...</td>\n",
       "      <td>...</td>\n",
       "      <td>...</td>\n",
       "      <td>...</td>\n",
       "      <td>...</td>\n",
       "    </tr>\n",
       "    <tr>\n",
       "      <th>7166775</th>\n",
       "      <td>42617021</td>\n",
       "      <td>2021-03-09</td>\n",
       "      <td>f</td>\n",
       "      <td>$179.00</td>\n",
       "      <td>$179.00</td>\n",
       "      <td>1.0</td>\n",
       "      <td>1125.0</td>\n",
       "    </tr>\n",
       "    <tr>\n",
       "      <th>7166776</th>\n",
       "      <td>42617021</td>\n",
       "      <td>2021-03-10</td>\n",
       "      <td>f</td>\n",
       "      <td>$179.00</td>\n",
       "      <td>$179.00</td>\n",
       "      <td>1.0</td>\n",
       "      <td>1125.0</td>\n",
       "    </tr>\n",
       "    <tr>\n",
       "      <th>7166777</th>\n",
       "      <td>42617021</td>\n",
       "      <td>2021-03-11</td>\n",
       "      <td>f</td>\n",
       "      <td>$179.00</td>\n",
       "      <td>$179.00</td>\n",
       "      <td>1.0</td>\n",
       "      <td>1125.0</td>\n",
       "    </tr>\n",
       "    <tr>\n",
       "      <th>7166778</th>\n",
       "      <td>42617021</td>\n",
       "      <td>2021-03-12</td>\n",
       "      <td>f</td>\n",
       "      <td>$179.00</td>\n",
       "      <td>$179.00</td>\n",
       "      <td>1.0</td>\n",
       "      <td>1125.0</td>\n",
       "    </tr>\n",
       "    <tr>\n",
       "      <th>7166779</th>\n",
       "      <td>42617021</td>\n",
       "      <td>2021-03-13</td>\n",
       "      <td>f</td>\n",
       "      <td>$179.00</td>\n",
       "      <td>$179.00</td>\n",
       "      <td>1.0</td>\n",
       "      <td>1125.0</td>\n",
       "    </tr>\n",
       "  </tbody>\n",
       "</table>\n",
       "<p>7166592 rows × 7 columns</p>\n",
       "</div>"
      ],
      "text/plain": [
       "         listing_id       date available    price adjusted_price  \\\n",
       "0             52490 2020-03-14         f   $75.00         $75.00   \n",
       "1              2818 2020-03-14         f   $69.00         $69.00   \n",
       "2              2818 2020-03-15         t   $69.00         $69.00   \n",
       "3              2818 2020-03-16         t   $59.00         $59.00   \n",
       "4              2818 2020-03-17         t   $59.00         $59.00   \n",
       "...             ...        ...       ...      ...            ...   \n",
       "7166775    42617021 2021-03-09         f  $179.00        $179.00   \n",
       "7166776    42617021 2021-03-10         f  $179.00        $179.00   \n",
       "7166777    42617021 2021-03-11         f  $179.00        $179.00   \n",
       "7166778    42617021 2021-03-12         f  $179.00        $179.00   \n",
       "7166779    42617021 2021-03-13         f  $179.00        $179.00   \n",
       "\n",
       "         minimum_nights  maximum_nights  \n",
       "0                   2.0            80.0  \n",
       "1                   3.0          1125.0  \n",
       "2                   3.0          1125.0  \n",
       "3                   3.0          1125.0  \n",
       "4                   3.0          1125.0  \n",
       "...                 ...             ...  \n",
       "7166775             1.0          1125.0  \n",
       "7166776             1.0          1125.0  \n",
       "7166777             1.0          1125.0  \n",
       "7166778             1.0          1125.0  \n",
       "7166779             1.0          1125.0  \n",
       "\n",
       "[7166592 rows x 7 columns]"
      ]
     },
     "execution_count": 45,
     "metadata": {},
     "output_type": "execute_result"
    }
   ],
   "source": [
    "calendar_pure"
   ]
  },
  {
   "cell_type": "code",
   "execution_count": 46,
   "metadata": {},
   "outputs": [
    {
     "data": {
      "text/plain": [
       "listing_id                 int64\n",
       "date              datetime64[ns]\n",
       "available                 object\n",
       "price                     object\n",
       "adjusted_price            object\n",
       "minimum_nights           float64\n",
       "maximum_nights           float64\n",
       "dtype: object"
      ]
     },
     "execution_count": 46,
     "metadata": {},
     "output_type": "execute_result"
    }
   ],
   "source": [
    "calendar_pure.dtypes"
   ]
  },
  {
   "cell_type": "markdown",
   "metadata": {},
   "source": [
    "##### 2.3、将price数据转换为float类型"
   ]
  },
  {
   "cell_type": "code",
   "execution_count": 47,
   "metadata": {},
   "outputs": [],
   "source": [
    "calendar_pure['price'] = calendar_pure['price'].str.replace('$', '')"
   ]
  },
  {
   "cell_type": "code",
   "execution_count": 48,
   "metadata": {},
   "outputs": [],
   "source": [
    "calendar_pure['price'] = calendar_pure['price'].str.replace(',', '')"
   ]
  },
  {
   "cell_type": "code",
   "execution_count": 49,
   "metadata": {},
   "outputs": [
    {
     "data": {
      "text/html": [
       "<div>\n",
       "<style scoped>\n",
       "    .dataframe tbody tr th:only-of-type {\n",
       "        vertical-align: middle;\n",
       "    }\n",
       "\n",
       "    .dataframe tbody tr th {\n",
       "        vertical-align: top;\n",
       "    }\n",
       "\n",
       "    .dataframe thead th {\n",
       "        text-align: right;\n",
       "    }\n",
       "</style>\n",
       "<table border=\"1\" class=\"dataframe\">\n",
       "  <thead>\n",
       "    <tr style=\"text-align: right;\">\n",
       "      <th></th>\n",
       "      <th>listing_id</th>\n",
       "      <th>date</th>\n",
       "      <th>available</th>\n",
       "      <th>price</th>\n",
       "      <th>adjusted_price</th>\n",
       "      <th>minimum_nights</th>\n",
       "      <th>maximum_nights</th>\n",
       "    </tr>\n",
       "  </thead>\n",
       "  <tbody>\n",
       "    <tr>\n",
       "      <th>0</th>\n",
       "      <td>52490</td>\n",
       "      <td>2020-03-14</td>\n",
       "      <td>f</td>\n",
       "      <td>75.00</td>\n",
       "      <td>$75.00</td>\n",
       "      <td>2.0</td>\n",
       "      <td>80.0</td>\n",
       "    </tr>\n",
       "    <tr>\n",
       "      <th>1</th>\n",
       "      <td>2818</td>\n",
       "      <td>2020-03-14</td>\n",
       "      <td>f</td>\n",
       "      <td>69.00</td>\n",
       "      <td>$69.00</td>\n",
       "      <td>3.0</td>\n",
       "      <td>1125.0</td>\n",
       "    </tr>\n",
       "    <tr>\n",
       "      <th>2</th>\n",
       "      <td>2818</td>\n",
       "      <td>2020-03-15</td>\n",
       "      <td>t</td>\n",
       "      <td>69.00</td>\n",
       "      <td>$69.00</td>\n",
       "      <td>3.0</td>\n",
       "      <td>1125.0</td>\n",
       "    </tr>\n",
       "    <tr>\n",
       "      <th>3</th>\n",
       "      <td>2818</td>\n",
       "      <td>2020-03-16</td>\n",
       "      <td>t</td>\n",
       "      <td>59.00</td>\n",
       "      <td>$59.00</td>\n",
       "      <td>3.0</td>\n",
       "      <td>1125.0</td>\n",
       "    </tr>\n",
       "    <tr>\n",
       "      <th>4</th>\n",
       "      <td>2818</td>\n",
       "      <td>2020-03-17</td>\n",
       "      <td>t</td>\n",
       "      <td>59.00</td>\n",
       "      <td>$59.00</td>\n",
       "      <td>3.0</td>\n",
       "      <td>1125.0</td>\n",
       "    </tr>\n",
       "    <tr>\n",
       "      <th>...</th>\n",
       "      <td>...</td>\n",
       "      <td>...</td>\n",
       "      <td>...</td>\n",
       "      <td>...</td>\n",
       "      <td>...</td>\n",
       "      <td>...</td>\n",
       "      <td>...</td>\n",
       "    </tr>\n",
       "    <tr>\n",
       "      <th>7166775</th>\n",
       "      <td>42617021</td>\n",
       "      <td>2021-03-09</td>\n",
       "      <td>f</td>\n",
       "      <td>179.00</td>\n",
       "      <td>$179.00</td>\n",
       "      <td>1.0</td>\n",
       "      <td>1125.0</td>\n",
       "    </tr>\n",
       "    <tr>\n",
       "      <th>7166776</th>\n",
       "      <td>42617021</td>\n",
       "      <td>2021-03-10</td>\n",
       "      <td>f</td>\n",
       "      <td>179.00</td>\n",
       "      <td>$179.00</td>\n",
       "      <td>1.0</td>\n",
       "      <td>1125.0</td>\n",
       "    </tr>\n",
       "    <tr>\n",
       "      <th>7166777</th>\n",
       "      <td>42617021</td>\n",
       "      <td>2021-03-11</td>\n",
       "      <td>f</td>\n",
       "      <td>179.00</td>\n",
       "      <td>$179.00</td>\n",
       "      <td>1.0</td>\n",
       "      <td>1125.0</td>\n",
       "    </tr>\n",
       "    <tr>\n",
       "      <th>7166778</th>\n",
       "      <td>42617021</td>\n",
       "      <td>2021-03-12</td>\n",
       "      <td>f</td>\n",
       "      <td>179.00</td>\n",
       "      <td>$179.00</td>\n",
       "      <td>1.0</td>\n",
       "      <td>1125.0</td>\n",
       "    </tr>\n",
       "    <tr>\n",
       "      <th>7166779</th>\n",
       "      <td>42617021</td>\n",
       "      <td>2021-03-13</td>\n",
       "      <td>f</td>\n",
       "      <td>179.00</td>\n",
       "      <td>$179.00</td>\n",
       "      <td>1.0</td>\n",
       "      <td>1125.0</td>\n",
       "    </tr>\n",
       "  </tbody>\n",
       "</table>\n",
       "<p>7166592 rows × 7 columns</p>\n",
       "</div>"
      ],
      "text/plain": [
       "         listing_id       date available   price adjusted_price  \\\n",
       "0             52490 2020-03-14         f   75.00         $75.00   \n",
       "1              2818 2020-03-14         f   69.00         $69.00   \n",
       "2              2818 2020-03-15         t   69.00         $69.00   \n",
       "3              2818 2020-03-16         t   59.00         $59.00   \n",
       "4              2818 2020-03-17         t   59.00         $59.00   \n",
       "...             ...        ...       ...     ...            ...   \n",
       "7166775    42617021 2021-03-09         f  179.00        $179.00   \n",
       "7166776    42617021 2021-03-10         f  179.00        $179.00   \n",
       "7166777    42617021 2021-03-11         f  179.00        $179.00   \n",
       "7166778    42617021 2021-03-12         f  179.00        $179.00   \n",
       "7166779    42617021 2021-03-13         f  179.00        $179.00   \n",
       "\n",
       "         minimum_nights  maximum_nights  \n",
       "0                   2.0            80.0  \n",
       "1                   3.0          1125.0  \n",
       "2                   3.0          1125.0  \n",
       "3                   3.0          1125.0  \n",
       "4                   3.0          1125.0  \n",
       "...                 ...             ...  \n",
       "7166775             1.0          1125.0  \n",
       "7166776             1.0          1125.0  \n",
       "7166777             1.0          1125.0  \n",
       "7166778             1.0          1125.0  \n",
       "7166779             1.0          1125.0  \n",
       "\n",
       "[7166592 rows x 7 columns]"
      ]
     },
     "execution_count": 49,
     "metadata": {},
     "output_type": "execute_result"
    }
   ],
   "source": [
    "calendar_pure"
   ]
  },
  {
   "cell_type": "code",
   "execution_count": 50,
   "metadata": {},
   "outputs": [],
   "source": [
    "calendar_pure['price'] = calendar_pure['price'].astype(float)"
   ]
  },
  {
   "cell_type": "code",
   "execution_count": 51,
   "metadata": {},
   "outputs": [
    {
     "data": {
      "text/plain": [
       "listing_id                 int64\n",
       "date              datetime64[ns]\n",
       "available                 object\n",
       "price                    float64\n",
       "adjusted_price            object\n",
       "minimum_nights           float64\n",
       "maximum_nights           float64\n",
       "dtype: object"
      ]
     },
     "execution_count": 51,
     "metadata": {},
     "output_type": "execute_result"
    }
   ],
   "source": [
    "calendar_pure.dtypes"
   ]
  },
  {
   "cell_type": "markdown",
   "metadata": {},
   "source": [
    "#### 提取时间中你需要的数据"
   ]
  },
  {
   "cell_type": "markdown",
   "metadata": {},
   "source": [
    "##### 2.4 按月份进行分组"
   ]
  },
  {
   "cell_type": "code",
   "execution_count": 53,
   "metadata": {},
   "outputs": [],
   "source": [
    "data = calendar_pure.groupby(calendar_pure['date'].dt.strftime('%B'))"
   ]
  },
  {
   "cell_type": "markdown",
   "metadata": {},
   "source": [
    "##### 2.5、价格求均值"
   ]
  },
  {
   "cell_type": "code",
   "execution_count": 54,
   "metadata": {},
   "outputs": [],
   "source": [
    "price_mean = data['price'].mean()"
   ]
  },
  {
   "cell_type": "markdown",
   "metadata": {},
   "source": [
    "##### 2.6、可视化"
   ]
  },
  {
   "cell_type": "code",
   "execution_count": 59,
   "metadata": {},
   "outputs": [
    {
     "data": {
      "text/plain": [
       "<matplotlib.axes._subplots.AxesSubplot at 0x27fcf401288>"
      ]
     },
     "execution_count": 59,
     "metadata": {},
     "output_type": "execute_result"
    },
    {
     "data": {
      "image/png": "[encoded data removed]",
      "text/plain": [
       "<Figure size 864x576 with 1 Axes>"
      ]
     },
     "metadata": {
      "needs_background": "light"
     },
     "output_type": "display_data"
    }
   ],
   "source": [
    "price_mean.plot(kind='barh', figsize=(12, 8))"
   ]
  },
  {
   "cell_type": "code",
   "execution_count": null,
   "metadata": {},
   "outputs": [],
   "source": []
  },
  {
   "cell_type": "code",
   "execution_count": null,
   "metadata": {},
   "outputs": [],
   "source": []
  }
 ],
 "metadata": {
  "kernelspec": {
   "display_name": "Python 3",
   "language": "python",
   "name": "python3"
  },
  "language_info": {
   "codemirror_mode": {
    "name": "ipython",
    "version": 3
   },
   "file_extension": ".py",
   "mimetype": "text/x-python",
   "name": "python",
   "nbconvert_exporter": "python",
   "pygments_lexer": "ipython3",
   "version": "3.7.4"
  }
 },
 "nbformat": 4,
 "nbformat_minor": 4
}
