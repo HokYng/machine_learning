{
 "cells": [
  {
   "cell_type": "markdown",
   "metadata": {},
   "source": [
    "### 逻辑回归\n",
    "- 目的：分类还是回归？经典的二分类算法\n",
    "- 机器学习算法选择：先逻辑回归再用复杂的，能简单还是用简单的\n",
    "- 逻辑回归的决策边界: 可以是非线性的\n",
    "- 如何体现非线性？或如何由回归任务过渡到分类任务？\n",
    "\n",
    "### 逻辑回归的数学基础\n",
    "- 从分类开始谈起\n",
    "    - 某个样本属于A类还是B类，从结果上讲就是值为0，还是值为1.但影响这个分类的是由一些因素决定的。从数学角度可以使用向量来表示这些因素(这些因素就影响某个样本是属于A类还是B类):$$x = (x_{1}, x_{2}, \\dotsm, x_{n})$$其中$x$就是表示一个样本，样本$x$具有n个影响分类的特征。如果考虑偏置项，则可以增加一个分量1。$$x = (x_{1}, x_{2}, \\dotsm, x_{n}, 1)$$\n",
    "- 建立分类的逻辑模型\n",
    "    - 假设有两套标准判定样本所属的分类，使用函数表示如下:\n",
    "        - $y_A=f(x)$&emsp;样本x属于A的可能性；\n",
    "        - $y_B=g(x)$&emsp;样本x属于B的可能性；\n",
    "    - 这样就可以建立一个分类模型:\n",
    "    $$y=\\begin{cases}1,\\quad y_A>y_B\\\\ 0,\\quad y_A\\leqslant y_B\\\\ \\end{cases}$$当$y = 1$, 则样本$x$属于A类；当$y = 0$，则样本$x$属于B类；则：\n",
    "$$y=\\begin{cases} 1,\\quad y_A-y_B>0\\\\ 0,\\quad 其他\\\\ \\end{cases}$$\n"
   ]
  },
  {
   "cell_type": "markdown",
   "metadata": {},
   "source": [
    "#### Sigmoid函数\n",
    "- 公式：$$g(z) = \\frac {1} {1 + e^{-z}}$$\n",
    "- 自变量取值为任意实数，值域为[0, 1)\n",
    "- 解释：将任意的输入映射到了[0, 1)区间，在线性回归中可以得到一个预测值，再将该值映射到Sigmoid函数中这样就完成了由值到概率的转换，也就是分类任务\n",
    "\n",
    "- 预测函数：$$h_{\\theta}{(x)} = g(\\theta^Tx) = \\frac {1} {1 + e^{-\\theta^{T}x}}$$\n",
    "    - 其中$\\theta_{0} + \\theta_{1}x_{1} + \\dotsm + \\theta_{n}x_{n} = \\displaystyle\\sum\\limits_{i=0}^n \\theta_{i}x_{i} = \\theta^Tx$\n",
    "\n",
    "- 分类任务:"
   ]
  },
  {
   "cell_type": "code",
   "execution_count": 4,
   "metadata": {},
   "outputs": [
    {
     "data": {
      "image/png": "[encoded data removed]",
      "text/plain": [
       "<Figure size 432x288 with 1 Axes>"
      ]
     },
     "metadata": {
      "needs_background": "light"
     },
     "output_type": "display_data"
    }
   ],
   "source": [
    "%matplotlib inline\n",
    "import matplotlib.pyplot as plt\n",
    "import numpy as np\n",
    "\n",
    "x_l=np.linspace( -10 ,10, 100,  dtype=np.float32 )\n",
    "y_l=1.0 / ( 1 + np.exp( -x_l ) )\n",
    "plt.plot(x_l, y_l,color='b')\n",
    "plt.grid(b=True)"
   ]
  },
  {
   "cell_type": "code",
   "execution_count": null,
   "metadata": {},
   "outputs": [],
   "source": []
  },
  {
   "cell_type": "code",
   "execution_count": null,
   "metadata": {},
   "outputs": [],
   "source": []
  },
  {
   "cell_type": "code",
   "execution_count": null,
   "metadata": {},
   "outputs": [],
   "source": []
  },
  {
   "cell_type": "code",
   "execution_count": null,
   "metadata": {},
   "outputs": [],
   "source": []
  },
  {
   "cell_type": "code",
   "execution_count": null,
   "metadata": {},
   "outputs": [],
   "source": []
  },
  {
   "cell_type": "code",
   "execution_count": null,
   "metadata": {},
   "outputs": [],
   "source": []
  },
  {
   "cell_type": "code",
   "execution_count": null,
   "metadata": {},
   "outputs": [],
   "source": []
  }
 ],
 "metadata": {
  "kernelspec": {
   "display_name": "Python 3",
   "language": "python",
   "name": "python3"
  },
  "language_info": {
   "codemirror_mode": {
    "name": "ipython",
    "version": 3
   },
   "file_extension": ".py",
   "mimetype": "text/x-python",
   "name": "python",
   "nbconvert_exporter": "python",
   "pygments_lexer": "ipython3",
   "version": "3.7.4"
  }
 },
 "nbformat": 4,
 "nbformat_minor": 4
}
