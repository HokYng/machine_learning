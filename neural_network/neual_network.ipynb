{
 "cells": [
  {
   "cell_type": "markdown",
   "metadata": {},
   "source": [
    "假设样本$(x_1, x_2,\\ldots,x_n)$: n个输入感知器"
   ]
  },
  {
   "cell_type": "markdown",
   "metadata": {},
   "source": [
    "基础感知器的数学模型：\n",
    "$y=w_1x_1 + w_2x_2 + \\dots + w_nx_n$\n",
    "\n",
    "$w_1, w_2, \\cdots, w_n$与$x_1, x_2, \\dots, x_n$用向量表示：\n",
    "$y=XW$"
   ]
  },
  {
   "cell_type": "markdown",
   "metadata": {},
   "source": [
    "经激活函数运算: $\\overline y=f(XW)$"
   ]
  },
  {
   "cell_type": "markdown",
   "metadata": {},
   "source": [
    "$y_0=w_{00}x_1 + w_{01}x_2 + \\cdots + w_{0n}x_n$\n",
    "$y_1=w_{10}x_1 + w_{11}x_2 + \\cdots + w_{1n}x_n$\n",
    "$y_2=w_{20}x_1 + w_{21}x_2 + \\cdots + w_{2n}x_n$\n",
    "\n",
    "$\\vdots$\n",
    "\n",
    "$y_m=w_{m0}x_1 + w_{m1}x_2 + \\cdots + w_{mn}x_n$"
   ]
  },
  {
   "cell_type": "markdown",
   "metadata": {},
   "source": [
    "输入n个特征, 输出m个 --> 单层神经网络\n",
    "\n",
    "$Y_{1{\\times}m}=X_{1{\\times}n}W_{n{\\times}m}$"
   ]
  },
  {
   "cell_type": "markdown",
   "metadata": {},
   "source": [
    "$\\begin{bmatrix}\n",
    "{w_{00}}&{w_{10}}&{\\cdots}&{w_{m0}}\\\\\n",
    "{w_{01}}&{w_{21}}&{\\cdots}&{w_{m1}}\\\\\n",
    "{\\vdots}&{\\vdots}&{\\ddots}&{\\vdots}\\\\\n",
    "{w_{0n}}&{w_{1n}}&{\\cdots}&{w_{mn}}\\\\\n",
    "\\end{bmatrix}$"
   ]
  },
  {
   "cell_type": "markdown",
   "metadata": {},
   "source": [
    "# 问题求解"
   ]
  },
  {
   "cell_type": "markdown",
   "metadata": {},
   "source": [
    "1、找到权重系数，使得最终输出与期望的分类标签误差最小。\n",
    "\n",
    "2、误差度量模型：$L_W(y, \\overline y) + \\lambda \\Phi(W)$\n",
    "\n",
    "均方差: $\\dfrac 1 2\\sum \\limits_{m=1}^{n} (y - \\overline y)^2$\n",
    "\n",
    "(大量样本)均方差: $\\dfrac{1}{m}\\sum \\limits_{m=1}^{n}(y - \\overline{y})^2$\n",
    "\n",
    "交叉熵: $-\\dfrac{1}{m}\\sum \\limits_{m=1}^{n} y_iln\\overline y_i + (1 - y_i)ln(1 - \\overline y_i)$"
   ]
  },
  {
   "cell_type": "markdown",
   "metadata": {},
   "source": [
    "3、权重系数更新模型\n",
    "\n",
    "$W_{new} = W_{old} - \\eta \\Delta_W$\n",
    "\n",
    "其中：$\\eta$控制下降速度(学习率), $\\Delta_W$控制下降的方向(推荐使用导数、切线的斜率，在极值点两边导数正负不同)"
   ]
  },
  {
   "cell_type": "code",
   "execution_count": null,
   "metadata": {},
   "outputs": [],
   "source": []
  }
 ],
 "metadata": {
  "kernelspec": {
   "display_name": "Python 3",
   "language": "python",
   "name": "python3"
  },
  "language_info": {
   "codemirror_mode": {
    "name": "ipython",
    "version": 3
   },
   "file_extension": ".py",
   "mimetype": "text/x-python",
   "name": "python",
   "nbconvert_exporter": "python",
   "pygments_lexer": "ipython3",
   "version": "3.7.4"
  }
 },
 "nbformat": 4,
 "nbformat_minor": 2
}
